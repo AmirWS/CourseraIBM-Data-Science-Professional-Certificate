{
 "cells": [
  {
   "cell_type": "markdown",
   "id": "70f39c41-0c2e-486b-a58c-ee98bace1d07",
   "metadata": {},
   "source": [
    "<center>\n",
    "    <img src=\"https://cf-courses-data.s3.us.cloud-object-storage.appdomain.cloud/IBMDeveloperSkillsNetwork-DB0201EN-SkillsNetwork/labs/FinalModule_Coursera_V5/images/SN_web_lightmode.png\" width=\"300\" alt=\"cognitiveclass.ai logo\">\n",
    "</center>\n",
    "\n",
    "<h1 align=center><font size = 5>Assignment: Notebook for Graded Assessment</font></h1>\n"
   ]
  },
  {
   "cell_type": "markdown",
   "id": "6da55db0-26bb-475d-a737-b03af1c297b7",
   "metadata": {},
   "source": [
    "# Introduction\n",
    "\n",
    "Using this Python notebook you will:\n",
    "\n",
    "1.  Understand three Chicago datasets\n",
    "2.  Load the three datasets into three tables in a SQLIte database\n",
    "3.  Execute SQL queries to answer assignment questions\n"
   ]
  },
  {
   "cell_type": "markdown",
   "id": "25708ec0-6dee-4aab-8884-0b2356d378bc",
   "metadata": {},
   "source": [
    "## Understand the datasets\n",
    "\n",
    "To complete the assignment problems in this notebook you will be using three datasets that are available on the city of Chicago's Data Portal:\n",
    "\n",
    "1.  <a href=\"https://data.cityofchicago.org/Health-Human-Services/Census-Data-Selected-socioeconomic-indicators-in-C/kn9c-c2s2?utm_medium=Exinfluencer&utm_source=Exinfluencer&utm_content=000026UJ&utm_term=10006555&utm_id=NA-SkillsNetwork-Channel-SkillsNetworkCoursesIBMDeveloperSkillsNetworkDB0201ENSkillsNetwork20127838-2021-01-01\">Socioeconomic Indicators in Chicago</a>\n",
    "2.  <a href=\"https://data.cityofchicago.org/Education/Chicago-Public-Schools-Progress-Report-Cards-2011-/9xs2-f89t?utm_medium=Exinfluencer&utm_source=Exinfluencer&utm_content=000026UJ&utm_term=10006555&utm_id=NA-SkillsNetwork-Channel-SkillsNetworkCoursesIBMDeveloperSkillsNetworkDB0201ENSkillsNetwork20127838-2021-01-01\">Chicago Public Schools</a>\n",
    "3.  <a href=\"https://data.cityofchicago.org/Public-Safety/Crimes-2001-to-present/ijzp-q8t2?utm_medium=Exinfluencer&utm_source=Exinfluencer&utm_content=000026UJ&utm_term=10006555&utm_id=NA-SkillsNetwork-Channel-SkillsNetworkCoursesIBMDeveloperSkillsNetworkDB0201ENSkillsNetwork20127838-2021-01-01\">Chicago Crime Data</a>\n",
    "\n",
    "### 1. Socioeconomic Indicators in Chicago\n",
    "\n",
    "This dataset contains a selection of six socioeconomic indicators of public health significance and a “hardship index,” for each Chicago community area, for the years 2008 – 2012.\n",
    "\n",
    "A detailed description of this dataset and the original dataset can be obtained from the Chicago Data Portal at:\n",
    "\n",
    "[https://data.cityofchicago.org/Health-Human-Services/Census-Data-Selected-socioeconomic-indicators-in-C/kn9c-c2s2](https://data.cityofchicago.org/Health-Human-Services/Census-Data-Selected-socioeconomic-indicators-in-C/kn9c-c2s2?utm_medium=Exinfluencer&utm_source=Exinfluencer&utm_content=000026UJ&utm_term=10006555&utm_id=NA-SkillsNetwork-Channel-SkillsNetworkCoursesIBMDeveloperSkillsNetworkDB0201ENSkillsNetwork20127838-2021-01-01&cm_mmc=Email_Newsletter-\\_-Developer_Ed%2BTech-\\_-WW_WW-\\_-SkillsNetwork-Courses-IBMDeveloperSkillsNetwork-DB0201EN-SkillsNetwork-20127838&cm_mmca1=000026UJ&cm_mmca2=10006555&cm_mmca3=M12345678&cvosrc=email.Newsletter.M12345678&cvo_campaign=000026UJ)\n",
    "\n",
    "### 2. Chicago Public Schools\n",
    "\n",
    "This dataset shows all school level performance data used to create CPS School Report Cards for the 2011-2012 school year. This dataset is provided by the city of Chicago's Data Portal.\n",
    "\n",
    "A detailed description of this dataset and the original dataset can be obtained from the Chicago Data Portal at:\n",
    "\n",
    "[https://data.cityofchicago.org/Education/Chicago-Public-Schools-Progress-Report-Cards-2011-/9xs2-f89t](https://data.cityofchicago.org/Education/Chicago-Public-Schools-Progress-Report-Cards-2011-/9xs2-f89t?utm_medium=Exinfluencer&utm_source=Exinfluencer&utm_content=000026UJ&utm_term=10006555&utm_id=NA-SkillsNetwork-Channel-SkillsNetworkCoursesIBMDeveloperSkillsNetworkDB0201ENSkillsNetwork20127838-2021-01-01&cm_mmc=Email_Newsletter-\\_-Developer_Ed%2BTech-\\_-WW_WW-\\_-SkillsNetwork-Courses-IBMDeveloperSkillsNetwork-DB0201EN-SkillsNetwork-20127838&cm_mmca1=000026UJ&cm_mmca2=10006555&cm_mmca3=M12345678&cvosrc=email.Newsletter.M12345678&cvo_campaign=000026UJ)\n",
    "\n",
    "### 3. Chicago Crime Data\n",
    "\n",
    "This dataset reflects reported incidents of crime (with the exception of murders where data exists for each victim) that occurred in the City of Chicago from 2001 to present, minus the most recent seven days.\n",
    "\n",
    "A detailed description of this dataset and the original dataset can be obtained from the Chicago Data Portal at:\n",
    "\n",
    "[https://data.cityofchicago.org/Public-Safety/Crimes-2001-to-present/ijzp-q8t2](https://data.cityofchicago.org/Public-Safety/Crimes-2001-to-present/ijzp-q8t2?utm_medium=Exinfluencer&utm_source=Exinfluencer&utm_content=000026UJ&utm_term=10006555&utm_id=NA-SkillsNetwork-Channel-SkillsNetworkCoursesIBMDeveloperSkillsNetworkDB0201ENSkillsNetwork20127838-2021-01-01&cm_mmc=Email_Newsletter-\\_-Developer_Ed%2BTech-\\_-WW_WW-\\_-SkillsNetwork-Courses-IBMDeveloperSkillsNetwork-DB0201EN-SkillsNetwork-20127838&cm_mmca1=000026UJ&cm_mmca2=10006555&cm_mmca3=M12345678&cvosrc=email.Newsletter.M12345678&cvo_campaign=000026UJ)\n"
   ]
  },
  {
   "cell_type": "markdown",
   "id": "79726371-c2dc-4f39-8efd-770b93f5cb1c",
   "metadata": {},
   "source": [
    "### Download the datasets\n",
    "\n",
    "This assignment requires you to have these three tables populated with a subset of the whole datasets.\n",
    "\n",
    "In many cases the dataset to be analyzed is available as a .CSV (comma separated values) file, perhaps on the internet. \n",
    "\n",
    "Use the links below to read the data files using the Pandas library. \n",
    "\n",
    "* Chicago Census Data\n",
    "\n",
    "https://cf-courses-data.s3.us.cloud-object-storage.appdomain.cloud/IBMDeveloperSkillsNetwork-DB0201EN-SkillsNetwork/labs/FinalModule_Coursera_V5/data/ChicagoCensusData.csv?utm_medium=Exinfluencer&utm_source=Exinfluencer&utm_content=000026UJ&utm_term=10006555&utm_id=NA-SkillsNetwork-Channel-SkillsNetworkCoursesIBMDeveloperSkillsNetworkDB0201ENSkillsNetwork20127838-2021-01-01\n",
    "\n",
    "* Chicago Public Schools\n",
    "\n",
    "https://cf-courses-data.s3.us.cloud-object-storage.appdomain.cloud/IBMDeveloperSkillsNetwork-DB0201EN-SkillsNetwork/labs/FinalModule_Coursera_V5/data/ChicagoPublicSchools.csv?utm_medium=Exinfluencer&utm_source=Exinfluencer&utm_content=000026UJ&utm_term=10006555&utm_id=NA-SkillsNetwork-Channel-SkillsNetworkCoursesIBMDeveloperSkillsNetworkDB0201ENSkillsNetwork20127838-2021-01-01\n",
    "\n",
    "* Chicago Crime Data\n",
    "\n",
    "https://cf-courses-data.s3.us.cloud-object-storage.appdomain.cloud/IBMDeveloperSkillsNetwork-DB0201EN-SkillsNetwork/labs/FinalModule_Coursera_V5/data/ChicagoCrimeData.csv?utm_medium=Exinfluencer&utm_source=Exinfluencer&utm_content=000026UJ&utm_term=10006555&utm_id=NA-SkillsNetwork-Channel-SkillsNetworkCoursesIBMDeveloperSkillsNetworkDB0201ENSkillsNetwork20127838-2021-01-01\n",
    "\n",
    "**NOTE:** Ensure you use the datasets available on the links above instead of directly from the Chicago Data Portal. The versions linked here are subsets of the original datasets and have some of the column names modified to be more database friendly which will make it easier to complete this assignment.\n"
   ]
  },
  {
   "cell_type": "markdown",
   "id": "7f736695-f4a1-4012-afe0-f5db688b4742",
   "metadata": {},
   "source": [
    "### Store the datasets in database tables\n",
    "\n",
    "To analyze the data using SQL, it first needs to be loaded into SQLite DB.\n",
    "We will create three tables in as under:\n",
    "\n",
    "1.  **CENSUS_DATA**\n",
    "2.  **CHICAGO_PUBLIC_SCHOOLS**\n",
    "3.  **CHICAGO_CRIME_DATA**\n"
   ]
  },
  {
   "cell_type": "markdown",
   "id": "e39dc4a6-6331-43ce-b6b2-2efa6b54959a",
   "metadata": {},
   "source": [
    "Load the `pandas` and `sqlite3` libraries and establish a connection to `FinalDB.db`\n"
   ]
  },
  {
   "cell_type": "code",
   "execution_count": 1,
   "id": "60f034e6-a374-4335-bc8a-177b82dd693b",
   "metadata": {},
   "outputs": [],
   "source": [
    "import csv, sqlite3,pandas as pd\n",
    "\n",
    "con = sqlite3.connect(\"FinalDB.db\")\n",
    "cur = con.cursor()"
   ]
  },
  {
   "cell_type": "markdown",
   "id": "c6a6dbc4-0622-4894-9206-0da8a398e3c6",
   "metadata": {},
   "source": [
    "Load the SQL magic module\n"
   ]
  },
  {
   "cell_type": "code",
   "execution_count": 2,
   "id": "67f61317-a63d-4081-8493-967e94e72a14",
   "metadata": {},
   "outputs": [],
   "source": [
    "%load_ext sql"
   ]
  },
  {
   "cell_type": "markdown",
   "id": "59a88d6c-4121-4503-9f91-13e1227d87a1",
   "metadata": {},
   "source": [
    "Use `Pandas` to load the data available in the links above to dataframes. Use these dataframes to load data on to the database `FinalDB.db` as required tables.\n"
   ]
  },
  {
   "cell_type": "code",
   "execution_count": 3,
   "id": "fe517d83-13d9-4718-9924-3b662adf6d5a",
   "metadata": {},
   "outputs": [
    {
     "data": {
      "text/html": [
       "<div>\n",
       "<style scoped>\n",
       "    .dataframe tbody tr th:only-of-type {\n",
       "        vertical-align: middle;\n",
       "    }\n",
       "\n",
       "    .dataframe tbody tr th {\n",
       "        vertical-align: top;\n",
       "    }\n",
       "\n",
       "    .dataframe thead th {\n",
       "        text-align: right;\n",
       "    }\n",
       "</style>\n",
       "<table border=\"1\" class=\"dataframe\">\n",
       "  <thead>\n",
       "    <tr style=\"text-align: right;\">\n",
       "      <th></th>\n",
       "      <th>ca</th>\n",
       "      <th>community_area_name</th>\n",
       "      <th>percent_of_housing_crowded</th>\n",
       "      <th>percent_households_below_poverty</th>\n",
       "      <th>percent_aged_16_unemployed</th>\n",
       "      <th>percent_aged_25_without_high_school_diploma</th>\n",
       "      <th>percent_aged_under_18_or_over_64</th>\n",
       "      <th>per_capita_income_</th>\n",
       "      <th>hardship_index</th>\n",
       "    </tr>\n",
       "  </thead>\n",
       "  <tbody>\n",
       "    <tr>\n",
       "      <th>0</th>\n",
       "      <td>1.0</td>\n",
       "      <td>Rogers Park</td>\n",
       "      <td>7.7</td>\n",
       "      <td>23.6</td>\n",
       "      <td>8.7</td>\n",
       "      <td>18.2</td>\n",
       "      <td>27.5</td>\n",
       "      <td>23939</td>\n",
       "      <td>39.0</td>\n",
       "    </tr>\n",
       "    <tr>\n",
       "      <th>1</th>\n",
       "      <td>2.0</td>\n",
       "      <td>West Ridge</td>\n",
       "      <td>7.8</td>\n",
       "      <td>17.2</td>\n",
       "      <td>8.8</td>\n",
       "      <td>20.8</td>\n",
       "      <td>38.5</td>\n",
       "      <td>23040</td>\n",
       "      <td>46.0</td>\n",
       "    </tr>\n",
       "    <tr>\n",
       "      <th>2</th>\n",
       "      <td>3.0</td>\n",
       "      <td>Uptown</td>\n",
       "      <td>3.8</td>\n",
       "      <td>24.0</td>\n",
       "      <td>8.9</td>\n",
       "      <td>11.8</td>\n",
       "      <td>22.2</td>\n",
       "      <td>35787</td>\n",
       "      <td>20.0</td>\n",
       "    </tr>\n",
       "    <tr>\n",
       "      <th>3</th>\n",
       "      <td>4.0</td>\n",
       "      <td>Lincoln Square</td>\n",
       "      <td>3.4</td>\n",
       "      <td>10.9</td>\n",
       "      <td>8.2</td>\n",
       "      <td>13.4</td>\n",
       "      <td>25.5</td>\n",
       "      <td>37524</td>\n",
       "      <td>17.0</td>\n",
       "    </tr>\n",
       "    <tr>\n",
       "      <th>4</th>\n",
       "      <td>5.0</td>\n",
       "      <td>North Center</td>\n",
       "      <td>0.3</td>\n",
       "      <td>7.5</td>\n",
       "      <td>5.2</td>\n",
       "      <td>4.5</td>\n",
       "      <td>26.2</td>\n",
       "      <td>57123</td>\n",
       "      <td>6.0</td>\n",
       "    </tr>\n",
       "  </tbody>\n",
       "</table>\n",
       "</div>"
      ],
      "text/plain": [
       "    ca community_area_name  percent_of_housing_crowded  \\\n",
       "0  1.0         Rogers Park                         7.7   \n",
       "1  2.0          West Ridge                         7.8   \n",
       "2  3.0              Uptown                         3.8   \n",
       "3  4.0      Lincoln Square                         3.4   \n",
       "4  5.0        North Center                         0.3   \n",
       "\n",
       "   percent_households_below_poverty  percent_aged_16_unemployed  \\\n",
       "0                              23.6                         8.7   \n",
       "1                              17.2                         8.8   \n",
       "2                              24.0                         8.9   \n",
       "3                              10.9                         8.2   \n",
       "4                               7.5                         5.2   \n",
       "\n",
       "   percent_aged_25_without_high_school_diploma  \\\n",
       "0                                         18.2   \n",
       "1                                         20.8   \n",
       "2                                         11.8   \n",
       "3                                         13.4   \n",
       "4                                          4.5   \n",
       "\n",
       "   percent_aged_under_18_or_over_64  per_capita_income_  hardship_index  \n",
       "0                              27.5               23939            39.0  \n",
       "1                              38.5               23040            46.0  \n",
       "2                              22.2               35787            20.0  \n",
       "3                              25.5               37524            17.0  \n",
       "4                              26.2               57123             6.0  "
      ]
     },
     "execution_count": 3,
     "metadata": {},
     "output_type": "execute_result"
    }
   ],
   "source": [
    "chicago_census_data_df=pd.read_csv('https://data.cityofchicago.org/resource/kn9c-c2s2.csv')\n",
    "chicago_census_data_df.head()"
   ]
  },
  {
   "cell_type": "code",
   "execution_count": 4,
   "metadata": {},
   "outputs": [
    {
     "data": {
      "text/html": [
       "<div>\n",
       "<style scoped>\n",
       "    .dataframe tbody tr th:only-of-type {\n",
       "        vertical-align: middle;\n",
       "    }\n",
       "\n",
       "    .dataframe tbody tr th {\n",
       "        vertical-align: top;\n",
       "    }\n",
       "\n",
       "    .dataframe thead th {\n",
       "        text-align: right;\n",
       "    }\n",
       "</style>\n",
       "<table border=\"1\" class=\"dataframe\">\n",
       "  <thead>\n",
       "    <tr style=\"text-align: right;\">\n",
       "      <th></th>\n",
       "      <th>school_id</th>\n",
       "      <th>name_of_school</th>\n",
       "      <th>elementary_or_high_school</th>\n",
       "      <th>street_address</th>\n",
       "      <th>city</th>\n",
       "      <th>state</th>\n",
       "      <th>zip_code</th>\n",
       "      <th>phone_number</th>\n",
       "      <th>link_</th>\n",
       "      <th>network_manager</th>\n",
       "      <th>...</th>\n",
       "      <th>rcdts_code</th>\n",
       "      <th>x_coordinate</th>\n",
       "      <th>y_coordinate</th>\n",
       "      <th>latitude</th>\n",
       "      <th>longitude</th>\n",
       "      <th>community_area_number</th>\n",
       "      <th>community_area_name</th>\n",
       "      <th>ward</th>\n",
       "      <th>police_district</th>\n",
       "      <th>location</th>\n",
       "    </tr>\n",
       "  </thead>\n",
       "  <tbody>\n",
       "    <tr>\n",
       "      <th>0</th>\n",
       "      <td>610038</td>\n",
       "      <td>Abraham Lincoln Elementary School</td>\n",
       "      <td>ES</td>\n",
       "      <td>615 W Kemper Pl</td>\n",
       "      <td>Chicago</td>\n",
       "      <td>IL</td>\n",
       "      <td>60614</td>\n",
       "      <td>(773) 534-5720</td>\n",
       "      <td>http://schoolreports.cps.edu/SchoolProgressRep...</td>\n",
       "      <td>Fullerton Elementary Network</td>\n",
       "      <td>...</td>\n",
       "      <td>150000000000000</td>\n",
       "      <td>1171699.458</td>\n",
       "      <td>1915829.428</td>\n",
       "      <td>41.924497</td>\n",
       "      <td>-87.644522</td>\n",
       "      <td>7</td>\n",
       "      <td>LINCOLN PARK</td>\n",
       "      <td>43</td>\n",
       "      <td>18</td>\n",
       "      <td>(41.92449696, -87.64452163)</td>\n",
       "    </tr>\n",
       "    <tr>\n",
       "      <th>1</th>\n",
       "      <td>610281</td>\n",
       "      <td>Adam Clayton Powell Paideia Community Academy ...</td>\n",
       "      <td>ES</td>\n",
       "      <td>7511 S South Shore Dr</td>\n",
       "      <td>Chicago</td>\n",
       "      <td>IL</td>\n",
       "      <td>60649</td>\n",
       "      <td>(773) 535-6650</td>\n",
       "      <td>http://schoolreports.cps.edu/SchoolProgressRep...</td>\n",
       "      <td>Skyway Elementary Network</td>\n",
       "      <td>...</td>\n",
       "      <td>150000000000000</td>\n",
       "      <td>1196129.985</td>\n",
       "      <td>1856209.466</td>\n",
       "      <td>41.760324</td>\n",
       "      <td>-87.556736</td>\n",
       "      <td>43</td>\n",
       "      <td>SOUTH SHORE</td>\n",
       "      <td>7</td>\n",
       "      <td>4</td>\n",
       "      <td>(41.76032435, -87.55673627)</td>\n",
       "    </tr>\n",
       "    <tr>\n",
       "      <th>2</th>\n",
       "      <td>610185</td>\n",
       "      <td>Adlai E Stevenson Elementary School</td>\n",
       "      <td>ES</td>\n",
       "      <td>8010 S Kostner Ave</td>\n",
       "      <td>Chicago</td>\n",
       "      <td>IL</td>\n",
       "      <td>60652</td>\n",
       "      <td>(773) 535-2280</td>\n",
       "      <td>http://schoolreports.cps.edu/SchoolProgressRep...</td>\n",
       "      <td>Midway Elementary Network</td>\n",
       "      <td>...</td>\n",
       "      <td>150000000000000</td>\n",
       "      <td>1148427.165</td>\n",
       "      <td>1851012.215</td>\n",
       "      <td>41.747111</td>\n",
       "      <td>-87.731702</td>\n",
       "      <td>70</td>\n",
       "      <td>ASHBURN</td>\n",
       "      <td>13</td>\n",
       "      <td>8</td>\n",
       "      <td>(41.74711093, -87.73170248)</td>\n",
       "    </tr>\n",
       "    <tr>\n",
       "      <th>3</th>\n",
       "      <td>609993</td>\n",
       "      <td>Agustin Lara Elementary Academy</td>\n",
       "      <td>ES</td>\n",
       "      <td>4619 S Wolcott Ave</td>\n",
       "      <td>Chicago</td>\n",
       "      <td>IL</td>\n",
       "      <td>60609</td>\n",
       "      <td>(773) 535-4389</td>\n",
       "      <td>http://schoolreports.cps.edu/SchoolProgressRep...</td>\n",
       "      <td>Pershing Elementary Network</td>\n",
       "      <td>...</td>\n",
       "      <td>150000000000000</td>\n",
       "      <td>1164504.290</td>\n",
       "      <td>1873959.199</td>\n",
       "      <td>41.809757</td>\n",
       "      <td>-87.672145</td>\n",
       "      <td>61</td>\n",
       "      <td>NEW CITY</td>\n",
       "      <td>20</td>\n",
       "      <td>9</td>\n",
       "      <td>(41.8097569, -87.6721446)</td>\n",
       "    </tr>\n",
       "    <tr>\n",
       "      <th>4</th>\n",
       "      <td>610513</td>\n",
       "      <td>Air Force Academy High School</td>\n",
       "      <td>HS</td>\n",
       "      <td>3630 S Wells St</td>\n",
       "      <td>Chicago</td>\n",
       "      <td>IL</td>\n",
       "      <td>60609</td>\n",
       "      <td>(773) 535-1590</td>\n",
       "      <td>http://schoolreports.cps.edu/SchoolProgressRep...</td>\n",
       "      <td>Southwest Side High School Network</td>\n",
       "      <td>...</td>\n",
       "      <td>150000000000000</td>\n",
       "      <td>1175177.622</td>\n",
       "      <td>1880745.126</td>\n",
       "      <td>41.828146</td>\n",
       "      <td>-87.632794</td>\n",
       "      <td>34</td>\n",
       "      <td>ARMOUR SQUARE</td>\n",
       "      <td>11</td>\n",
       "      <td>9</td>\n",
       "      <td>(41.82814609, -87.63279369)</td>\n",
       "    </tr>\n",
       "  </tbody>\n",
       "</table>\n",
       "<p>5 rows × 79 columns</p>\n",
       "</div>"
      ],
      "text/plain": [
       "   school_id                                     name_of_school  \\\n",
       "0     610038                  Abraham Lincoln Elementary School   \n",
       "1     610281  Adam Clayton Powell Paideia Community Academy ...   \n",
       "2     610185                Adlai E Stevenson Elementary School   \n",
       "3     609993                    Agustin Lara Elementary Academy   \n",
       "4     610513                      Air Force Academy High School   \n",
       "\n",
       "  elementary_or_high_school          street_address     city state  zip_code  \\\n",
       "0                        ES        615 W Kemper Pl   Chicago    IL     60614   \n",
       "1                        ES  7511 S South Shore Dr   Chicago    IL     60649   \n",
       "2                        ES     8010 S Kostner Ave   Chicago    IL     60652   \n",
       "3                        ES     4619 S Wolcott Ave   Chicago    IL     60609   \n",
       "4                        HS        3630 S Wells St   Chicago    IL     60609   \n",
       "\n",
       "     phone_number                                              link_  \\\n",
       "0  (773) 534-5720  http://schoolreports.cps.edu/SchoolProgressRep...   \n",
       "1  (773) 535-6650  http://schoolreports.cps.edu/SchoolProgressRep...   \n",
       "2  (773) 535-2280  http://schoolreports.cps.edu/SchoolProgressRep...   \n",
       "3  (773) 535-4389  http://schoolreports.cps.edu/SchoolProgressRep...   \n",
       "4  (773) 535-1590  http://schoolreports.cps.edu/SchoolProgressRep...   \n",
       "\n",
       "                      network_manager  ...       rcdts_code x_coordinate  \\\n",
       "0        Fullerton Elementary Network  ...  150000000000000  1171699.458   \n",
       "1           Skyway Elementary Network  ...  150000000000000  1196129.985   \n",
       "2           Midway Elementary Network  ...  150000000000000  1148427.165   \n",
       "3         Pershing Elementary Network  ...  150000000000000  1164504.290   \n",
       "4  Southwest Side High School Network  ...  150000000000000  1175177.622   \n",
       "\n",
       "  y_coordinate   latitude  longitude community_area_number  \\\n",
       "0  1915829.428  41.924497 -87.644522                     7   \n",
       "1  1856209.466  41.760324 -87.556736                    43   \n",
       "2  1851012.215  41.747111 -87.731702                    70   \n",
       "3  1873959.199  41.809757 -87.672145                    61   \n",
       "4  1880745.126  41.828146 -87.632794                    34   \n",
       "\n",
       "  community_area_name  ward police_district                     location  \n",
       "0        LINCOLN PARK    43              18  (41.92449696, -87.64452163)  \n",
       "1         SOUTH SHORE     7               4  (41.76032435, -87.55673627)  \n",
       "2             ASHBURN    13               8  (41.74711093, -87.73170248)  \n",
       "3            NEW CITY    20               9    (41.8097569, -87.6721446)  \n",
       "4       ARMOUR SQUARE    11               9  (41.82814609, -87.63279369)  \n",
       "\n",
       "[5 rows x 79 columns]"
      ]
     },
     "execution_count": 4,
     "metadata": {},
     "output_type": "execute_result"
    }
   ],
   "source": [
    "chicago_public_schools_df=pd.read_csv('https://data.cityofchicago.org/resource/9xs2-f89t.csv')\n",
    "chicago_public_schools_df.head()"
   ]
  },
  {
   "cell_type": "code",
   "execution_count": 5,
   "metadata": {},
   "outputs": [
    {
     "data": {
      "text/html": [
       "<div>\n",
       "<style scoped>\n",
       "    .dataframe tbody tr th:only-of-type {\n",
       "        vertical-align: middle;\n",
       "    }\n",
       "\n",
       "    .dataframe tbody tr th {\n",
       "        vertical-align: top;\n",
       "    }\n",
       "\n",
       "    .dataframe thead th {\n",
       "        text-align: right;\n",
       "    }\n",
       "</style>\n",
       "<table border=\"1\" class=\"dataframe\">\n",
       "  <thead>\n",
       "    <tr style=\"text-align: right;\">\n",
       "      <th></th>\n",
       "      <th>id</th>\n",
       "      <th>case_number</th>\n",
       "      <th>date</th>\n",
       "      <th>block</th>\n",
       "      <th>iucr</th>\n",
       "      <th>primary_type</th>\n",
       "      <th>description</th>\n",
       "      <th>location_description</th>\n",
       "      <th>arrest</th>\n",
       "      <th>domestic</th>\n",
       "      <th>...</th>\n",
       "      <th>ward</th>\n",
       "      <th>community_area</th>\n",
       "      <th>fbi_code</th>\n",
       "      <th>x_coordinate</th>\n",
       "      <th>y_coordinate</th>\n",
       "      <th>year</th>\n",
       "      <th>updated_on</th>\n",
       "      <th>latitude</th>\n",
       "      <th>longitude</th>\n",
       "      <th>location</th>\n",
       "    </tr>\n",
       "  </thead>\n",
       "  <tbody>\n",
       "    <tr>\n",
       "      <th>0</th>\n",
       "      <td>13320112</td>\n",
       "      <td>JG555921</td>\n",
       "      <td>2023-12-21T00:00:00.000</td>\n",
       "      <td>045XX N MAPLEWOOD AVE</td>\n",
       "      <td>0920</td>\n",
       "      <td>MOTOR VEHICLE THEFT</td>\n",
       "      <td>ATTEMPT - AUTOMOBILE</td>\n",
       "      <td>STREET</td>\n",
       "      <td>False</td>\n",
       "      <td>False</td>\n",
       "      <td>...</td>\n",
       "      <td>47</td>\n",
       "      <td>4</td>\n",
       "      <td>07</td>\n",
       "      <td>NaN</td>\n",
       "      <td>NaN</td>\n",
       "      <td>2023</td>\n",
       "      <td>2023-12-28T15:42:00.000</td>\n",
       "      <td>NaN</td>\n",
       "      <td>NaN</td>\n",
       "      <td>NaN</td>\n",
       "    </tr>\n",
       "    <tr>\n",
       "      <th>1</th>\n",
       "      <td>13317136</td>\n",
       "      <td>JG552469</td>\n",
       "      <td>2023-12-21T00:00:00.000</td>\n",
       "      <td>005XX N MICHIGAN AVE</td>\n",
       "      <td>0460</td>\n",
       "      <td>BATTERY</td>\n",
       "      <td>SIMPLE</td>\n",
       "      <td>RESTAURANT</td>\n",
       "      <td>False</td>\n",
       "      <td>False</td>\n",
       "      <td>...</td>\n",
       "      <td>42</td>\n",
       "      <td>8</td>\n",
       "      <td>08B</td>\n",
       "      <td>1177348.0</td>\n",
       "      <td>1903717.0</td>\n",
       "      <td>2023</td>\n",
       "      <td>2023-12-28T15:42:00.000</td>\n",
       "      <td>41.891134</td>\n",
       "      <td>-87.624135</td>\n",
       "      <td>\\n,  \\n(41.891133566, -87.624134682)</td>\n",
       "    </tr>\n",
       "    <tr>\n",
       "      <th>2</th>\n",
       "      <td>13319536</td>\n",
       "      <td>JG555000</td>\n",
       "      <td>2023-12-21T00:00:00.000</td>\n",
       "      <td>065XX S KEELER AVE</td>\n",
       "      <td>1122</td>\n",
       "      <td>DECEPTIVE PRACTICE</td>\n",
       "      <td>COUNTERFEIT CHECK</td>\n",
       "      <td>RESIDENCE</td>\n",
       "      <td>False</td>\n",
       "      <td>False</td>\n",
       "      <td>...</td>\n",
       "      <td>13</td>\n",
       "      <td>65</td>\n",
       "      <td>10</td>\n",
       "      <td>1149499.0</td>\n",
       "      <td>1860834.0</td>\n",
       "      <td>2023</td>\n",
       "      <td>2023-12-28T15:42:00.000</td>\n",
       "      <td>41.774043</td>\n",
       "      <td>-87.727521</td>\n",
       "      <td>\\n,  \\n(41.774042937, -87.727521475)</td>\n",
       "    </tr>\n",
       "    <tr>\n",
       "      <th>3</th>\n",
       "      <td>13314962</td>\n",
       "      <td>JG549515</td>\n",
       "      <td>2023-12-21T00:00:00.000</td>\n",
       "      <td>070XX N GLENWOOD AVE</td>\n",
       "      <td>0910</td>\n",
       "      <td>MOTOR VEHICLE THEFT</td>\n",
       "      <td>AUTOMOBILE</td>\n",
       "      <td>STREET</td>\n",
       "      <td>False</td>\n",
       "      <td>False</td>\n",
       "      <td>...</td>\n",
       "      <td>49</td>\n",
       "      <td>1</td>\n",
       "      <td>07</td>\n",
       "      <td>1165544.0</td>\n",
       "      <td>1946906.0</td>\n",
       "      <td>2023</td>\n",
       "      <td>2023-12-28T15:42:00.000</td>\n",
       "      <td>42.009906</td>\n",
       "      <td>-87.666250</td>\n",
       "      <td>\\n,  \\n(42.009905706, -87.666250231)</td>\n",
       "    </tr>\n",
       "    <tr>\n",
       "      <th>4</th>\n",
       "      <td>13316357</td>\n",
       "      <td>JG551412</td>\n",
       "      <td>2023-12-21T00:00:00.000</td>\n",
       "      <td>058XX S SPAULDING AVE</td>\n",
       "      <td>1154</td>\n",
       "      <td>DECEPTIVE PRACTICE</td>\n",
       "      <td>FINANCIAL IDENTITY THEFT $300 AND UNDER</td>\n",
       "      <td>RESIDENCE</td>\n",
       "      <td>False</td>\n",
       "      <td>True</td>\n",
       "      <td>...</td>\n",
       "      <td>14</td>\n",
       "      <td>63</td>\n",
       "      <td>11</td>\n",
       "      <td>1155383.0</td>\n",
       "      <td>1865684.0</td>\n",
       "      <td>2023</td>\n",
       "      <td>2023-12-28T15:42:00.000</td>\n",
       "      <td>41.787236</td>\n",
       "      <td>-87.705822</td>\n",
       "      <td>\\n,  \\n(41.787236293, -87.70582189)</td>\n",
       "    </tr>\n",
       "  </tbody>\n",
       "</table>\n",
       "<p>5 rows × 22 columns</p>\n",
       "</div>"
      ],
      "text/plain": [
       "         id case_number                     date                  block  iucr  \\\n",
       "0  13320112    JG555921  2023-12-21T00:00:00.000  045XX N MAPLEWOOD AVE  0920   \n",
       "1  13317136    JG552469  2023-12-21T00:00:00.000   005XX N MICHIGAN AVE  0460   \n",
       "2  13319536    JG555000  2023-12-21T00:00:00.000     065XX S KEELER AVE  1122   \n",
       "3  13314962    JG549515  2023-12-21T00:00:00.000   070XX N GLENWOOD AVE  0910   \n",
       "4  13316357    JG551412  2023-12-21T00:00:00.000  058XX S SPAULDING AVE  1154   \n",
       "\n",
       "          primary_type                              description  \\\n",
       "0  MOTOR VEHICLE THEFT                     ATTEMPT - AUTOMOBILE   \n",
       "1              BATTERY                                   SIMPLE   \n",
       "2   DECEPTIVE PRACTICE                        COUNTERFEIT CHECK   \n",
       "3  MOTOR VEHICLE THEFT                               AUTOMOBILE   \n",
       "4   DECEPTIVE PRACTICE  FINANCIAL IDENTITY THEFT $300 AND UNDER   \n",
       "\n",
       "  location_description  arrest  domestic  ...  ward  community_area  fbi_code  \\\n",
       "0               STREET   False     False  ...    47               4        07   \n",
       "1           RESTAURANT   False     False  ...    42               8       08B   \n",
       "2            RESIDENCE   False     False  ...    13              65        10   \n",
       "3               STREET   False     False  ...    49               1        07   \n",
       "4            RESIDENCE   False      True  ...    14              63        11   \n",
       "\n",
       "   x_coordinate y_coordinate  year               updated_on   latitude  \\\n",
       "0           NaN          NaN  2023  2023-12-28T15:42:00.000        NaN   \n",
       "1     1177348.0    1903717.0  2023  2023-12-28T15:42:00.000  41.891134   \n",
       "2     1149499.0    1860834.0  2023  2023-12-28T15:42:00.000  41.774043   \n",
       "3     1165544.0    1946906.0  2023  2023-12-28T15:42:00.000  42.009906   \n",
       "4     1155383.0    1865684.0  2023  2023-12-28T15:42:00.000  41.787236   \n",
       "\n",
       "   longitude                              location  \n",
       "0        NaN                                   NaN  \n",
       "1 -87.624135  \\n,  \\n(41.891133566, -87.624134682)  \n",
       "2 -87.727521  \\n,  \\n(41.774042937, -87.727521475)  \n",
       "3 -87.666250  \\n,  \\n(42.009905706, -87.666250231)  \n",
       "4 -87.705822   \\n,  \\n(41.787236293, -87.70582189)  \n",
       "\n",
       "[5 rows x 22 columns]"
      ]
     },
     "execution_count": 5,
     "metadata": {},
     "output_type": "execute_result"
    }
   ],
   "source": [
    "chicago_crime_data_df=pd.read_csv('https://data.cityofchicago.org/resource/ijzp-q8t2.csv')\n",
    "chicago_crime_data_df.head()"
   ]
  },
  {
   "cell_type": "markdown",
   "id": "063a37f3-f16f-462f-b9c9-837e3a6c2782",
   "metadata": {},
   "source": [
    "Establish a connection between SQL magic module and the database `FinalDB.db`\n"
   ]
  },
  {
   "cell_type": "code",
   "execution_count": 6,
   "id": "41dbb78c-3273-4e36-9f66-3c6f289523dc",
   "metadata": {},
   "outputs": [],
   "source": [
    "%sql sqlite:///FinalDB.db"
   ]
  },
  {
   "cell_type": "code",
   "execution_count": 7,
   "metadata": {},
   "outputs": [
    {
     "name": "stdout",
     "output_type": "stream",
     "text": [
      "Table(s) converted onto SQL format successfully\n"
     ]
    }
   ],
   "source": [
    "# Convert tables onto SQL format using pandas\n",
    "\n",
    "try:\n",
    "\n",
    "    chicago_census_data_df.to_sql(\"chicago_census_data\", con, if_exists='replace', index=False,method=\"multi\")\n",
    "    chicago_public_schools_df.to_sql(\"chicago_public_schools\", con, if_exists='replace', index=False,method=\"multi\")\n",
    "    chicago_crime_data_df.to_sql(\"chicago_crime_data\", con, if_exists='replace', index=False,method=\"multi\")\n",
    "    print(\"Table(s) converted onto SQL format successfully\")\n",
    "\n",
    "except Exception as e:\n",
    "    print(e)\n"
   ]
  },
  {
   "cell_type": "markdown",
   "id": "af5e6fee-b5c9-47a3-ac34-150f21db1ee9",
   "metadata": {},
   "source": [
    "You can now proceed to the the following questions. Please note that a graded assignment will follow this lab and there will be a question on each of the problems stated below. It can be from the answer you received or the code you write for this problem. Therefore, please keep a note of both your codes as well as the response you generate.\n"
   ]
  },
  {
   "cell_type": "markdown",
   "id": "cca74628-d657-4b61-bee7-809150540c0d",
   "metadata": {},
   "source": [
    "## Problems\n",
    "\n",
    "Now write and execute SQL queries to solve assignment problems\n",
    "\n",
    "### Problem 1\n",
    "\n",
    "##### Find the total number of crimes recorded in the CRIME table.\n"
   ]
  },
  {
   "cell_type": "code",
   "execution_count": 25,
   "metadata": {},
   "outputs": [
    {
     "name": "stdout",
     "output_type": "stream",
     "text": [
      " * sqlite:///FinalDB.db\n",
      "Done.\n"
     ]
    },
    {
     "data": {
      "text/html": [
       "<table>\n",
       "    <thead>\n",
       "        <tr>\n",
       "            <th>count(id)</th>\n",
       "        </tr>\n",
       "    </thead>\n",
       "    <tbody>\n",
       "        <tr>\n",
       "            <td>1000</td>\n",
       "        </tr>\n",
       "    </tbody>\n",
       "</table>"
      ],
      "text/plain": [
       "[(1000,)]"
      ]
     },
     "execution_count": 25,
     "metadata": {},
     "output_type": "execute_result"
    }
   ],
   "source": [
    "%sql select count(id) from chicago_crime_data;"
   ]
  },
  {
   "cell_type": "markdown",
   "id": "581d514b-2df9-421e-869b-78385c3cf214",
   "metadata": {},
   "source": [
    "### Problem 2\n",
    "\n",
    "##### List community area names and numbers with per capita income less than 11000.\n"
   ]
  },
  {
   "cell_type": "code",
   "execution_count": 9,
   "id": "29f3a173-978d-4305-9928-7f80ec137f14",
   "metadata": {},
   "outputs": [
    {
     "name": "stdout",
     "output_type": "stream",
     "text": [
      " * sqlite:///FinalDB.db\n",
      "Done.\n"
     ]
    },
    {
     "data": {
      "text/html": [
       "<table>\n",
       "    <thead>\n",
       "        <tr>\n",
       "            <th>ca</th>\n",
       "            <th>community_area_name</th>\n",
       "            <th>per_capita_income_</th>\n",
       "        </tr>\n",
       "    </thead>\n",
       "    <tbody>\n",
       "        <tr>\n",
       "            <td>26.0</td>\n",
       "            <td>West Garfield Park</td>\n",
       "            <td>10934</td>\n",
       "        </tr>\n",
       "        <tr>\n",
       "            <td>30.0</td>\n",
       "            <td>South Lawndale</td>\n",
       "            <td>10402</td>\n",
       "        </tr>\n",
       "        <tr>\n",
       "            <td>37.0</td>\n",
       "            <td>Fuller Park</td>\n",
       "            <td>10432</td>\n",
       "        </tr>\n",
       "        <tr>\n",
       "            <td>54.0</td>\n",
       "            <td>Riverdale</td>\n",
       "            <td>8201</td>\n",
       "        </tr>\n",
       "    </tbody>\n",
       "</table>"
      ],
      "text/plain": [
       "[(26.0, 'West Garfield Park', 10934),\n",
       " (30.0, 'South Lawndale', 10402),\n",
       " (37.0, 'Fuller Park', 10432),\n",
       " (54.0, 'Riverdale', 8201)]"
      ]
     },
     "execution_count": 9,
     "metadata": {},
     "output_type": "execute_result"
    }
   ],
   "source": [
    "%sql select ca,community_area_name,per_capita_income_ from chicago_census_data where per_capita_income_<11000;"
   ]
  },
  {
   "cell_type": "markdown",
   "id": "52b19110-1586-46cc-98e2-b4848d7b2ebd",
   "metadata": {},
   "source": [
    "### Problem 3\n",
    "\n",
    "##### List all case numbers for crimes involving minors?(children are not considered minors for the purposes of crime analysis) \n"
   ]
  },
  {
   "cell_type": "code",
   "execution_count": 10,
   "id": "09575e90-d07c-43f4-b61e-625d4fe69109",
   "metadata": {},
   "outputs": [
    {
     "name": "stdout",
     "output_type": "stream",
     "text": [
      " * sqlite:///FinalDB.db\n",
      "Done.\n"
     ]
    },
    {
     "data": {
      "text/html": [
       "<table>\n",
       "    <thead>\n",
       "        <tr>\n",
       "            <th>id</th>\n",
       "            <th>case_number</th>\n",
       "            <th>description</th>\n",
       "        </tr>\n",
       "    </thead>\n",
       "    <tbody>\n",
       "        <tr>\n",
       "            <td>13315281</td>\n",
       "            <td>JG549959</td>\n",
       "            <td>PROTECTED EMPLOYEE - HANDS, FISTS, FEET, NO / MINOR INJURY</td>\n",
       "        </tr>\n",
       "        <tr>\n",
       "            <td>13314416</td>\n",
       "            <td>JG548963</td>\n",
       "            <td>AGGRAVATED P.O. - HANDS, FISTS, FEET, NO / MINOR INJURY</td>\n",
       "        </tr>\n",
       "        <tr>\n",
       "            <td>13314373</td>\n",
       "            <td>JG548917</td>\n",
       "            <td>PROTECTED EMPLOYEE - HANDS, FISTS, FEET, NO / MINOR INJURY</td>\n",
       "        </tr>\n",
       "        <tr>\n",
       "            <td>13314380</td>\n",
       "            <td>JG548903</td>\n",
       "            <td>AGGRAVATED P.O. - HANDS, FISTS, FEET, NO / MINOR INJURY</td>\n",
       "        </tr>\n",
       "        <tr>\n",
       "            <td>13314105</td>\n",
       "            <td>JG548432</td>\n",
       "            <td>PROTECTED EMPLOYEE - HANDS, FISTS, FEET, NO / MINOR INJURY</td>\n",
       "        </tr>\n",
       "        <tr>\n",
       "            <td>13313650</td>\n",
       "            <td>JG548028</td>\n",
       "            <td>AGGRAVATED P.O. - HANDS, FISTS, FEET, NO / MINOR INJURY</td>\n",
       "        </tr>\n",
       "        <tr>\n",
       "            <td>13313702</td>\n",
       "            <td>JG548074</td>\n",
       "            <td>PROTECTED EMPLOYEE - HANDS, FISTS, FEET, NO / MINOR INJURY</td>\n",
       "        </tr>\n",
       "        <tr>\n",
       "            <td>13313446</td>\n",
       "            <td>JG547745</td>\n",
       "            <td>AGGRAVATED P.O. - HANDS, FISTS, FEET, NO / MINOR INJURY</td>\n",
       "        </tr>\n",
       "        <tr>\n",
       "            <td>13313320</td>\n",
       "            <td>JG547652</td>\n",
       "            <td>PROTECTED EMPLOYEE - HANDS, FISTS, FEET, NO / MINOR INJURY</td>\n",
       "        </tr>\n",
       "        <tr>\n",
       "            <td>13313310</td>\n",
       "            <td>JG547597</td>\n",
       "            <td>AGGRAVATED P.O. - HANDS, FISTS, FEET, NO / MINOR INJURY</td>\n",
       "        </tr>\n",
       "    </tbody>\n",
       "</table>"
      ],
      "text/plain": [
       "[(13315281, 'JG549959', 'PROTECTED EMPLOYEE - HANDS, FISTS, FEET, NO / MINOR INJURY'),\n",
       " (13314416, 'JG548963', 'AGGRAVATED P.O. - HANDS, FISTS, FEET, NO / MINOR INJURY'),\n",
       " (13314373, 'JG548917', 'PROTECTED EMPLOYEE - HANDS, FISTS, FEET, NO / MINOR INJURY'),\n",
       " (13314380, 'JG548903', 'AGGRAVATED P.O. - HANDS, FISTS, FEET, NO / MINOR INJURY'),\n",
       " (13314105, 'JG548432', 'PROTECTED EMPLOYEE - HANDS, FISTS, FEET, NO / MINOR INJURY'),\n",
       " (13313650, 'JG548028', 'AGGRAVATED P.O. - HANDS, FISTS, FEET, NO / MINOR INJURY'),\n",
       " (13313702, 'JG548074', 'PROTECTED EMPLOYEE - HANDS, FISTS, FEET, NO / MINOR INJURY'),\n",
       " (13313446, 'JG547745', 'AGGRAVATED P.O. - HANDS, FISTS, FEET, NO / MINOR INJURY'),\n",
       " (13313320, 'JG547652', 'PROTECTED EMPLOYEE - HANDS, FISTS, FEET, NO / MINOR INJURY'),\n",
       " (13313310, 'JG547597', 'AGGRAVATED P.O. - HANDS, FISTS, FEET, NO / MINOR INJURY')]"
      ]
     },
     "execution_count": 10,
     "metadata": {},
     "output_type": "execute_result"
    }
   ],
   "source": [
    "%sql select id,case_number,description from chicago_crime_data where description like '%MINOR%'"
   ]
  },
  {
   "cell_type": "markdown",
   "id": "c52d0256-0a78-46f2-9251-072acb242bd3",
   "metadata": {},
   "source": [
    "### Problem 4\n",
    "\n",
    "##### List all kidnapping crimes involving a child?\n"
   ]
  },
  {
   "cell_type": "code",
   "execution_count": 11,
   "metadata": {},
   "outputs": [
    {
     "name": "stdout",
     "output_type": "stream",
     "text": [
      " * sqlite:///FinalDB.db\n",
      "Done.\n"
     ]
    },
    {
     "data": {
      "text/html": [
       "<table>\n",
       "    <thead>\n",
       "        <tr>\n",
       "            <th>id</th>\n",
       "            <th>case_number</th>\n",
       "            <th>primary_type</th>\n",
       "            <th>description</th>\n",
       "        </tr>\n",
       "    </thead>\n",
       "    <tbody>\n",
       "        <tr>\n",
       "            <td>13315124</td>\n",
       "            <td>JG548674</td>\n",
       "            <td>OFFENSE INVOLVING CHILDREN</td>\n",
       "            <td>ENDANGERING LIFE / HEALTH OF CHILD</td>\n",
       "        </tr>\n",
       "        <tr>\n",
       "            <td>13314999</td>\n",
       "            <td>JG549527</td>\n",
       "            <td>OFFENSE INVOLVING CHILDREN</td>\n",
       "            <td>CHILD ABUSE</td>\n",
       "        </tr>\n",
       "        <tr>\n",
       "            <td>13314984</td>\n",
       "            <td>JG549735</td>\n",
       "            <td>OFFENSE INVOLVING CHILDREN</td>\n",
       "            <td>CHILD ABUSE</td>\n",
       "        </tr>\n",
       "        <tr>\n",
       "            <td>13321073</td>\n",
       "            <td>JG556505</td>\n",
       "            <td>OFFENSE INVOLVING CHILDREN</td>\n",
       "            <td>CHILD ABUSE</td>\n",
       "        </tr>\n",
       "        <tr>\n",
       "            <td>13315015</td>\n",
       "            <td>JG549581</td>\n",
       "            <td>OFFENSE INVOLVING CHILDREN</td>\n",
       "            <td>CHILD ABUSE</td>\n",
       "        </tr>\n",
       "    </tbody>\n",
       "</table>"
      ],
      "text/plain": [
       "[(13315124, 'JG548674', 'OFFENSE INVOLVING CHILDREN', 'ENDANGERING LIFE / HEALTH OF CHILD'),\n",
       " (13314999, 'JG549527', 'OFFENSE INVOLVING CHILDREN', 'CHILD ABUSE'),\n",
       " (13314984, 'JG549735', 'OFFENSE INVOLVING CHILDREN', 'CHILD ABUSE'),\n",
       " (13321073, 'JG556505', 'OFFENSE INVOLVING CHILDREN', 'CHILD ABUSE'),\n",
       " (13315015, 'JG549581', 'OFFENSE INVOLVING CHILDREN', 'CHILD ABUSE')]"
      ]
     },
     "execution_count": 11,
     "metadata": {},
     "output_type": "execute_result"
    }
   ],
   "source": [
    "%sql select id,case_number,primary_type, description from chicago_crime_data \\\n",
    "where description like '%CHILD%' "
   ]
  },
  {
   "cell_type": "markdown",
   "id": "5b70ae1d-e796-44ee-b03d-4feeac4f30aa",
   "metadata": {},
   "source": [
    "### Problem 5\n",
    "\n",
    "##### List the kind of crimes that were recorded at schools. (No repetitions)\n"
   ]
  },
  {
   "cell_type": "code",
   "execution_count": 13,
   "id": "b7f73602-f77f-476b-93b3-2b3ee13226ce",
   "metadata": {},
   "outputs": [
    {
     "name": "stdout",
     "output_type": "stream",
     "text": [
      " * sqlite:///FinalDB.db\n",
      "Done.\n"
     ]
    },
    {
     "data": {
      "text/html": [
       "<table>\n",
       "    <thead>\n",
       "        <tr>\n",
       "            <th>id</th>\n",
       "            <th>case_number</th>\n",
       "            <th>primary_type</th>\n",
       "            <th>description</th>\n",
       "            <th>location_description</th>\n",
       "        </tr>\n",
       "    </thead>\n",
       "    <tbody>\n",
       "        <tr>\n",
       "            <td>13314843</td>\n",
       "            <td>JG549482</td>\n",
       "            <td>ASSAULT</td>\n",
       "            <td>SIMPLE</td>\n",
       "            <td>SCHOOL - PUBLIC GROUNDS</td>\n",
       "        </tr>\n",
       "        <tr>\n",
       "            <td>13314128</td>\n",
       "            <td>JG548573</td>\n",
       "            <td>BATTERY</td>\n",
       "            <td>SIMPLE</td>\n",
       "            <td>SCHOOL - PUBLIC BUILDING</td>\n",
       "        </tr>\n",
       "        <tr>\n",
       "            <td>13314032</td>\n",
       "            <td>JG548574</td>\n",
       "            <td>CRIMINAL TRESPASS</td>\n",
       "            <td>TO LAND</td>\n",
       "            <td>SCHOOL - PRIVATE GROUNDS</td>\n",
       "        </tr>\n",
       "        <tr>\n",
       "            <td>13313647</td>\n",
       "            <td>JG548099</td>\n",
       "            <td>MOTOR VEHICLE THEFT</td>\n",
       "            <td>ATTEMPT - AUTOMOBILE</td>\n",
       "            <td>SCHOOL - PUBLIC GROUNDS</td>\n",
       "        </tr>\n",
       "        <tr>\n",
       "            <td>13314999</td>\n",
       "            <td>JG549527</td>\n",
       "            <td>OFFENSE INVOLVING CHILDREN</td>\n",
       "            <td>CHILD ABUSE</td>\n",
       "            <td>SCHOOL - PUBLIC GROUNDS</td>\n",
       "        </tr>\n",
       "        <tr>\n",
       "            <td>13314870</td>\n",
       "            <td>JG549192</td>\n",
       "            <td>OTHER OFFENSE</td>\n",
       "            <td>TELEPHONE THREAT</td>\n",
       "            <td>SCHOOL - PUBLIC BUILDING</td>\n",
       "        </tr>\n",
       "        <tr>\n",
       "            <td>13314545</td>\n",
       "            <td>JG549150</td>\n",
       "            <td>PUBLIC PEACE VIOLATION</td>\n",
       "            <td>OTHER VIOLATION</td>\n",
       "            <td>SCHOOL - PUBLIC GROUNDS</td>\n",
       "        </tr>\n",
       "        <tr>\n",
       "            <td>13315216</td>\n",
       "            <td>JG549072</td>\n",
       "            <td>THEFT</td>\n",
       "            <td>FROM BUILDING</td>\n",
       "            <td>SCHOOL - PUBLIC BUILDING</td>\n",
       "        </tr>\n",
       "    </tbody>\n",
       "</table>"
      ],
      "text/plain": [
       "[(13314843, 'JG549482', 'ASSAULT', 'SIMPLE', 'SCHOOL - PUBLIC GROUNDS'),\n",
       " (13314128, 'JG548573', 'BATTERY', 'SIMPLE', 'SCHOOL - PUBLIC BUILDING'),\n",
       " (13314032, 'JG548574', 'CRIMINAL TRESPASS', 'TO LAND', 'SCHOOL - PRIVATE GROUNDS'),\n",
       " (13313647, 'JG548099', 'MOTOR VEHICLE THEFT', 'ATTEMPT - AUTOMOBILE', 'SCHOOL - PUBLIC GROUNDS'),\n",
       " (13314999, 'JG549527', 'OFFENSE INVOLVING CHILDREN', 'CHILD ABUSE', 'SCHOOL - PUBLIC GROUNDS'),\n",
       " (13314870, 'JG549192', 'OTHER OFFENSE', 'TELEPHONE THREAT', 'SCHOOL - PUBLIC BUILDING'),\n",
       " (13314545, 'JG549150', 'PUBLIC PEACE VIOLATION', 'OTHER VIOLATION', 'SCHOOL - PUBLIC GROUNDS'),\n",
       " (13315216, 'JG549072', 'THEFT', 'FROM BUILDING', 'SCHOOL - PUBLIC BUILDING')]"
      ]
     },
     "execution_count": 13,
     "metadata": {},
     "output_type": "execute_result"
    }
   ],
   "source": [
    "%sql select id,case_number,primary_type,description,location_description\\\n",
    "from chicago_crime_data where location_description like '%SCHOOL%'\\\n",
    "group by primary_type;"
   ]
  },
  {
   "cell_type": "markdown",
   "id": "a341c86c-d295-42f6-a13b-a1b4958302aa",
   "metadata": {},
   "source": [
    "### Problem 6\n",
    "\n",
    "##### List the type of schools along with the average safety score for each type.\n"
   ]
  },
  {
   "cell_type": "code",
   "execution_count": 24,
   "metadata": {},
   "outputs": [
    {
     "name": "stdout",
     "output_type": "stream",
     "text": [
      " * sqlite:///FinalDB.db\n",
      "Done.\n"
     ]
    },
    {
     "data": {
      "text/html": [
       "<table>\n",
       "    <thead>\n",
       "        <tr>\n",
       "            <th>elementary_or_high_school</th>\n",
       "            <th>avg_per_school_type</th>\n",
       "            <th>overall_avg</th>\n",
       "        </tr>\n",
       "    </thead>\n",
       "    <tbody>\n",
       "        <tr>\n",
       "            <td>ES</td>\n",
       "            <td>49.52038369304557</td>\n",
       "            <td>49.50487329434698</td>\n",
       "        </tr>\n",
       "        <tr>\n",
       "            <td>HS</td>\n",
       "            <td>49.62352941176471</td>\n",
       "            <td>49.50487329434698</td>\n",
       "        </tr>\n",
       "        <tr>\n",
       "            <td>MS</td>\n",
       "            <td>48.0</td>\n",
       "            <td>49.50487329434698</td>\n",
       "        </tr>\n",
       "    </tbody>\n",
       "</table>"
      ],
      "text/plain": [
       "[('ES', 49.52038369304557, 49.50487329434698),\n",
       " ('HS', 49.62352941176471, 49.50487329434698),\n",
       " ('MS', 48.0, 49.50487329434698)]"
      ]
     },
     "execution_count": 24,
     "metadata": {},
     "output_type": "execute_result"
    }
   ],
   "source": [
    "%%sql\n",
    "select elementary_or_high_school,\n",
    "avg(safety_score) as avg_per_school_type,\n",
    "( select avg(safety_score) from chicago_public_schools) as overall_avg\n",
    "from chicago_public_schools\n",
    "group by elementary_or_high_school;"
   ]
  },
  {
   "cell_type": "markdown",
   "id": "1af832d2-fc2b-4b0e-9303-ef417386220b",
   "metadata": {},
   "source": [
    "### Problem 7\n",
    "\n",
    "##### List 5 community areas with highest % of households below poverty line\n"
   ]
  },
  {
   "cell_type": "code",
   "execution_count": 15,
   "id": "f3326b69-aca9-4e15-8db8-5090a4417dc1",
   "metadata": {},
   "outputs": [
    {
     "name": "stdout",
     "output_type": "stream",
     "text": [
      " * sqlite:///FinalDB.db\n",
      "Done.\n"
     ]
    },
    {
     "data": {
      "text/html": [
       "<table>\n",
       "    <thead>\n",
       "        <tr>\n",
       "            <th>ca</th>\n",
       "            <th>community_area_name</th>\n",
       "            <th>percent_households_below_poverty</th>\n",
       "        </tr>\n",
       "    </thead>\n",
       "    <tbody>\n",
       "        <tr>\n",
       "            <td>54.0</td>\n",
       "            <td>Riverdale</td>\n",
       "            <td>56.5</td>\n",
       "        </tr>\n",
       "        <tr>\n",
       "            <td>37.0</td>\n",
       "            <td>Fuller Park</td>\n",
       "            <td>51.2</td>\n",
       "        </tr>\n",
       "        <tr>\n",
       "            <td>68.0</td>\n",
       "            <td>Englewood</td>\n",
       "            <td>46.6</td>\n",
       "        </tr>\n",
       "        <tr>\n",
       "            <td>29.0</td>\n",
       "            <td>North Lawndale</td>\n",
       "            <td>43.1</td>\n",
       "        </tr>\n",
       "        <tr>\n",
       "            <td>27.0</td>\n",
       "            <td>East Garfield Park</td>\n",
       "            <td>42.4</td>\n",
       "        </tr>\n",
       "    </tbody>\n",
       "</table>"
      ],
      "text/plain": [
       "[(54.0, 'Riverdale', 56.5),\n",
       " (37.0, 'Fuller Park', 51.2),\n",
       " (68.0, 'Englewood', 46.6),\n",
       " (29.0, 'North Lawndale', 43.1),\n",
       " (27.0, 'East Garfield Park', 42.4)]"
      ]
     },
     "execution_count": 15,
     "metadata": {},
     "output_type": "execute_result"
    }
   ],
   "source": [
    "%sql select ca,community_area_name,percent_households_below_poverty from chicago_census_data\\\n",
    "order by percent_households_below_poverty desc limit 5;"
   ]
  },
  {
   "cell_type": "markdown",
   "id": "b5b8f40b-8730-4e15-8917-5b2b0d1c0081",
   "metadata": {},
   "source": [
    "### Problem 8\n",
    "\n",
    "##### Which community area is most crime prone? Display the coumminty area number only.\n"
   ]
  },
  {
   "cell_type": "code",
   "execution_count": 16,
   "metadata": {},
   "outputs": [
    {
     "name": "stdout",
     "output_type": "stream",
     "text": [
      " * sqlite:///FinalDB.db\n",
      "Done.\n"
     ]
    },
    {
     "data": {
      "text/html": [
       "<table>\n",
       "    <thead>\n",
       "        <tr>\n",
       "            <th>community_area</th>\n",
       "            <th>FREQUENCY</th>\n",
       "        </tr>\n",
       "    </thead>\n",
       "    <tbody>\n",
       "        <tr>\n",
       "            <td>25</td>\n",
       "            <td>58</td>\n",
       "        </tr>\n",
       "    </tbody>\n",
       "</table>"
      ],
      "text/plain": [
       "[(25, 58)]"
      ]
     },
     "execution_count": 16,
     "metadata": {},
     "output_type": "execute_result"
    }
   ],
   "source": [
    "%%sql\n",
    "SELECT community_area ,COUNT(community_area) AS FREQUENCY\n",
    "FROM chicago_crime_data \n",
    "GROUP BY community_area\n",
    "ORDER BY COUNT(community_area) DESC\n",
    "LIMIT 1;\n"
   ]
  },
  {
   "cell_type": "markdown",
   "id": "7c992021-73ca-4f5f-b5bb-ff10316a56f7",
   "metadata": {},
   "source": [
    "\n",
    "Double-click **here** for a hint\n",
    "\n",
    "<!--\n",
    "Query for the 'community area number' that has most number of incidents\n",
    "-->\n"
   ]
  },
  {
   "cell_type": "markdown",
   "id": "03e5d1b0-b892-4d10-a256-1475e4ce984d",
   "metadata": {},
   "source": [
    "### Problem 9\n",
    "\n",
    "##### Use a sub-query to find the name of the community area with highest hardship index\n"
   ]
  },
  {
   "cell_type": "code",
   "execution_count": 17,
   "id": "31a5e2f6-72ba-4c1d-b9be-dcf44f78afa5",
   "metadata": {},
   "outputs": [
    {
     "name": "stdout",
     "output_type": "stream",
     "text": [
      " * sqlite:///FinalDB.db\n",
      "Done.\n"
     ]
    },
    {
     "data": {
      "text/html": [
       "<table>\n",
       "    <thead>\n",
       "        <tr>\n",
       "            <th>ca</th>\n",
       "            <th>community_area_name</th>\n",
       "            <th>hardship_index</th>\n",
       "        </tr>\n",
       "    </thead>\n",
       "    <tbody>\n",
       "        <tr>\n",
       "            <td>54.0</td>\n",
       "            <td>Riverdale</td>\n",
       "            <td>98.0</td>\n",
       "        </tr>\n",
       "    </tbody>\n",
       "</table>"
      ],
      "text/plain": [
       "[(54.0, 'Riverdale', 98.0)]"
      ]
     },
     "execution_count": 17,
     "metadata": {},
     "output_type": "execute_result"
    }
   ],
   "source": [
    "%sql select ca,community_area_name,hardship_index from chicago_census_data \\\n",
    "where hardship_index=(select max(hardship_index) from chicago_census_data)"
   ]
  },
  {
   "cell_type": "markdown",
   "id": "e65cf7ab-4a90-4099-8996-905108eed8e2",
   "metadata": {},
   "source": [
    "### Problem 10\n",
    "\n",
    "##### Use a sub-query to determine the Community Area Name with most number of crimes?\n"
   ]
  },
  {
   "cell_type": "code",
   "execution_count": 18,
   "id": "77a98ee5-d25d-4c45-8280-0c61e004faf9",
   "metadata": {},
   "outputs": [
    {
     "name": "stdout",
     "output_type": "stream",
     "text": [
      " * sqlite:///FinalDB.db\n",
      "Done.\n"
     ]
    },
    {
     "data": {
      "text/html": [
       "<table>\n",
       "    <thead>\n",
       "        <tr>\n",
       "            <th>community_area</th>\n",
       "            <th>community_area_name</th>\n",
       "            <th>number_of_crimes</th>\n",
       "        </tr>\n",
       "    </thead>\n",
       "    <tbody>\n",
       "        <tr>\n",
       "            <td>25</td>\n",
       "            <td>Austin</td>\n",
       "            <td>58</td>\n",
       "        </tr>\n",
       "    </tbody>\n",
       "</table>"
      ],
      "text/plain": [
       "[(25, 'Austin', 58)]"
      ]
     },
     "execution_count": 18,
     "metadata": {},
     "output_type": "execute_result"
    }
   ],
   "source": [
    "%%sql\n",
    "select c1.community_area,c2.community_area_name\n",
    ",count(*) as number_of_crimes\n",
    "from chicago_crime_data c1, chicago_census_data c2\n",
    "where c1.community_area=c2.ca\n",
    "group by c1.community_area\n",
    "order by number_of_crimes desc limit 1;"
   ]
  },
  {
   "cell_type": "markdown",
   "id": "0a6431db-e3d5-4797-b3a9-e955355545b7",
   "metadata": {},
   "source": [
    "## Author(s)\n",
    "\n",
    "<h4> Hima Vasudevan </h4>\n",
    "<h4> Rav Ahuja </h4>\n",
    "<h4> Ramesh Sannreddy </h4>\n",
    "\n",
    "## Contribtuor(s)\n",
    "\n",
    "<h4> Malika Singla </h4>\n",
    "<h4>Abhishek Gagneja</h4>\n",
    "\n",
    "## Change log\n",
    "\n",
    "| Date       | Version | Changed by        | Change Description                             |\n",
    "| ---------- | ------- | ----------------- | ---------------------------------------------- |\n",
    "|2023-10-18  | 2.6     | Abhishek Gagneja  | Modified instruction set |\n",
    "| 2022-03-04 | 2.5     | Lakshmi Holla     | Changed markdown.                   |\n",
    "| 2021-05-19 | 2.4     | Lakshmi Holla     | Updated the question                           |\n",
    "| 2021-04-30 | 2.3     | Malika Singla     | Updated the libraries                          |\n",
    "| 2021-01-15 | 2.2     | Rav Ahuja         | Removed problem 11 and fixed changelog         |\n",
    "| 2020-11-25 | 2.1     | Ramesh Sannareddy | Updated the problem statements, and datasets   |\n",
    "| 2020-09-05 | 2.0     | Malika Singla     | Moved lab to course repo in GitLab             |\n",
    "| 2018-07-18 | 1.0     | Rav Ahuja         | Several updates including loading instructions |\n",
    "| 2018-05-04 | 0.1     | Hima Vasudevan    | Created initial version                        |\n",
    "\n",
    "## <h3 align=\"center\"> © IBM Corporation 2023. All rights reserved. <h3/>\n"
   ]
  }
 ],
 "metadata": {
  "kernelspec": {
   "display_name": "Python 3 (ipykernel)",
   "language": "python",
   "name": "python3"
  },
  "language_info": {
   "codemirror_mode": {
    "name": "ipython",
    "version": 3
   },
   "file_extension": ".py",
   "mimetype": "text/x-python",
   "name": "python",
   "nbconvert_exporter": "python",
   "pygments_lexer": "ipython3",
   "version": "3.8.10"
  }
 },
 "nbformat": 4,
 "nbformat_minor": 4
}
